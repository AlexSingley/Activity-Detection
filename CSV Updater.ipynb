{
 "cells": [
  {
   "cell_type": "code",
   "execution_count": null,
   "metadata": {},
   "outputs": [],
   "source": [
    "# -*- coding: utf-8 -*-\n",
    "\"\"\"\n",
    "Created on Sat Nov 2 13:40:11 2018\n",
    "\n",
    "@author: singl\n",
    "\"\"\"\n",
    "\n",
    "import pandas as pd"
   ]
  },
  {
   "cell_type": "code",
   "execution_count": null,
   "metadata": {},
   "outputs": [],
   "source": [
    "while(i<=81):\n",
    "    if(i<10):\n",
    "        csvName = '00' + str(i) + '.csv'\n",
    "    elif(i<100):\n",
    "        csvName = '0' + str(i) + '.csv'\n",
    "    else:\n",
    "        csvName = str(i) + '.csv'\n",
    "        \n",
    "    csvToCSV()\n",
    "    i+=1\n",
    "    if(i == 37):\n",
    "        i = 40"
   ]
  },
  {
   "cell_type": "code",
   "execution_count": null,
   "metadata": {},
   "outputs": [],
   "source": [
    "def csvToCSV():\n",
    "    cols = []\n",
    "    j = 0\n",
    "    if(i<10):\n",
    "        wbName = '00' + str(i)\n",
    "    elif(i<100):\n",
    "        wbName = '0' + str(i)\n",
    "    else:\n",
    "        wbName = str(i)\n",
    "       \n",
    "    df = pd.read_csv('C:\\\\Users\\\\singl\\\\Documents\\\\Dips Lab\\\\' + wbName + '.csv')\n",
    "    while(j<len(bodyParts)):\n",
    "        if any(df.columns.str.contains(bodyParts[j])):\n",
    "            cols.append(bodyParts[j] + '.PosX')\n",
    "            cols.append(bodyParts[j] + '.PosY')\n",
    "            cols.append(bodyParts[j] + '.PosZ')\n",
    "        j+=1\n",
    "    if(cols != []):\n",
    "        pd.read_csv('C:\\\\Users\\\\singl\\\\Documents\\\\Dips Lab\\\\' + wbName + '.csv', usecols=cols).to_csv(wbName + 'b.csv', encoding='utf-8', index=False)"
   ]
  }
 ],
 "metadata": {
  "kernelspec": {
   "display_name": "Python 3",
   "language": "python",
   "name": "python3"
  },
  "language_info": {
   "codemirror_mode": {
    "name": "ipython",
    "version": 3
   },
   "file_extension": ".py",
   "mimetype": "text/x-python",
   "name": "python",
   "nbconvert_exporter": "python",
   "pygments_lexer": "ipython3",
   "version": "3.6.5"
  }
 },
 "nbformat": 4,
 "nbformat_minor": 2
}
