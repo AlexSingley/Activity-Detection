{
 "cells": [
  {
   "cell_type": "code",
   "execution_count": 1,
   "metadata": {},
   "outputs": [],
   "source": [
    "# -*- coding: utf-8 -*-\n",
    "\"\"\"\n",
    "Created on Mon Oct 15 01:37:13 2018\n",
    "\n",
    "@author: singl\n",
    "\"\"\"\n",
    "\n",
    "import pandas as pd"
   ]
  },
  {
   "cell_type": "code",
   "execution_count": 2,
   "metadata": {},
   "outputs": [],
   "source": [
    "bodyParts = ['THEAD', 'LSHO', 'RSHO', 'LMW', 'RMW', 'LPSIS', 'RPSIS', 'LLEK', 'RLEK', 'LHEE', 'RHEE', 'LTOE', 'RTOE']\n",
    "\n",
    "i = 3"
   ]
  },
  {
   "cell_type": "code",
   "execution_count": 3,
   "metadata": {},
   "outputs": [],
   "source": [
    "def excelToCSV():\n",
    "    if(i<10):\n",
    "        wbName = '00' + str(i)\n",
    "    elif(i<100):\n",
    "        wbName = '0' + str(i)\n",
    "    else:\n",
    "        wbName = str(i)\n",
    "    \n",
    "    df = pd.read_excel('C:\\\\Users\\\\singl\\\\Documents\\\\Dips Lab\\\\' + wbName + '.xlsx', sheetname='mocap-' + wbName, index_col=None)\n",
    "    df.to_csv(csvName, encoding='utf-8')"
   ]
  },
  {
   "cell_type": "code",
   "execution_count": 4,
   "metadata": {},
   "outputs": [],
   "source": [
    "def csvToCSV():\n",
    "    cols = []\n",
    "    j = 0\n",
    "    k = 0\n",
    "    if(i<10):\n",
    "        wbName = '00' + str(i)\n",
    "    elif(i<100):\n",
    "        wbName = '0' + str(i)\n",
    "    else:\n",
    "        wbName = str(i)\n",
    "       \n",
    "    df = pd.read_csv('C:\\\\Users\\\\singl\\\\Documents\\\\Dips Lab\\\\' + wbName + '.csv')\n",
    "    while(j<len(bodyParts)):\n",
    "        if any(df.columns.str.contains(str(bodyParts[j]))):\n",
    "            cols.append(str(bodyParts[j]) + '.PosX')\n",
    "            cols.append(str(bodyParts[j]) + '.PosY')\n",
    "            cols.append(str(bodyParts[j]) + '.PosZ')\n",
    "            \n",
    "        j+=1\n",
    "\n",
    "    if(cols != []):\n",
    "        while(k<j):\n",
    "            start = 0\n",
    "            end = 99\n",
    "            \n",
    "            while(end<63999):\n",
    "                df.loc[[start, end], cols[k] + ' Std. Dev.'] = df.loc[[start, end], cols[k]].std()\n",
    "                df.loc[[start, end], cols[k] + ' Mean'] = df.loc[[start, end], cols[k]].mean()\n",
    "                df.loc[[start, end], cols[k] + ' Median'] = df.loc[[start, end], cols[k]].median()\n",
    "                df.loc[[start, end], cols[k] + ' Mode'] = df.loc[[start, end], cols[k]].mode()\n",
    "                df.loc[[start, end], cols[k] + ' Max'] = df.loc[[start, end], cols[k]].max()\n",
    "                df.loc[[start, end], cols[k] + ' Min'] = df.loc[[start, end], cols[k]].min()\n",
    "                \n",
    "                \n",
    "                start+=100\n",
    "                end+=100\n",
    "                \n",
    "            cols.append(cols[k] + ' Std. Dev.')\n",
    "            cols.append(cols[k] + ' Mean')\n",
    "            cols.append(cols[k] + ' Median')\n",
    "            cols.append(cols[k] + ' Mode')\n",
    "            cols.append(cols[k] + ' Max')\n",
    "            cols.append(cols[k] + ' Min')\n",
    "            k+=1\n",
    "    if(cols != []):\n",
    "        df.to_csv(wbName + 'c.csv', columns=cols, encoding='utf-8', index=False)"
   ]
  },
  {
   "cell_type": "code",
   "execution_count": 5,
   "metadata": {},
   "outputs": [],
   "source": [
    "while(i<=81):\n",
    "    if(i<10):\n",
    "        csvName = '00' + str(i) + '.csv'\n",
    "    elif(i<100):\n",
    "        csvName = '0' + str(i) + '.csv'\n",
    "    else:\n",
    "        csvName = str(i) + '.csv'\n",
    "        \n",
    "    csvToCSV()\n",
    "    i+=1\n",
    "    if(i == 37):\n",
    "        i = 40"
   ]
  },
  {
   "cell_type": "code",
   "execution_count": null,
   "metadata": {},
   "outputs": [],
   "source": []
  },
  {
   "cell_type": "code",
   "execution_count": null,
   "metadata": {},
   "outputs": [],
   "source": []
  }
 ],
 "metadata": {
  "kernelspec": {
   "display_name": "Python 3",
   "language": "python",
   "name": "python3"
  },
  "language_info": {
   "codemirror_mode": {
    "name": "ipython",
    "version": 3
   },
   "file_extension": ".py",
   "mimetype": "text/x-python",
   "name": "python",
   "nbconvert_exporter": "python",
   "pygments_lexer": "ipython3",
   "version": "3.6.5"
  }
 },
 "nbformat": 4,
 "nbformat_minor": 2
}
